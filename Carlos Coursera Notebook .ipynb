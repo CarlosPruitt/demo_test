{
    "cells": [
        {
            "cell_type": "markdown",
            "metadata": {
                "collapsed": true
            },
            "source": "# My Jupyter Notebook on IBM Watson Studio\n"
        },
        {
            "cell_type": "markdown",
            "metadata": {},
            "source": "**Carlos Pruitt**\n\nI am a Medical Laboratory Technician.  \n"
        },
        {
            "cell_type": "markdown",
            "metadata": {},
            "source": "*I am interested in data science because I am intrigued by the information hidden in data.  I wish to utilize my background in medicine, computer science and scientific skepticism into a second career in data science.*"
        },
        {
            "cell_type": "markdown",
            "metadata": {},
            "source": "### How to merge two dictionaries in Python 3.5+ ###\n"
        },
        {
            "cell_type": "code",
            "execution_count": 4,
            "metadata": {},
            "outputs": [
                {
                    "data": {
                        "text/plain": "{'a': 'apple', 'b': 'boygone', 'c': 'cactus'}"
                    },
                    "execution_count": 4,
                    "metadata": {},
                    "output_type": "execute_result"
                }
            ],
            "source": "x = {'a': 'apple', 'b': 'boy'}\ny = {'b': 'boygone', 'c': 'cactus'}\nz = {**x, **y}\nz"
        },
        {
            "cell_type": "code",
            "execution_count": 5,
            "metadata": {
                "scrolled": true
            },
            "outputs": [
                {
                    "data": {
                        "text/plain": "{'b': 'boy', 'c': 'cactus', 'a': 'apple'}"
                    },
                    "execution_count": 5,
                    "metadata": {},
                    "output_type": "execute_result"
                }
            ],
            "source": "zz = {**y, **x}\nzz"
        },
        {
            "cell_type": "markdown",
            "metadata": {},
            "source": "### Must include at least 3 of the following: ### \n\n- horizontal rule\n- bulleted list\n- numbered list\n- tables\n- hyperlinks\n- images\n- code/syntax highlighting\n- blocked quotes\n- ~~strikethrough~~\n\n___\n#### Horizontal Rule ####\n___\n\n\n---\n#### Code  ####\n\nIn the above python example merging two dictionaries add another code cell with the following and <mark>look at the different value of 'b'</mark>:\n\n***NOTE*** The syntax highlighting did not render in read only mode of this notebook, the three backticks followed by python renders syntax highlighting in interactive mode.\n\n\n```python\n~~~\nzz = {**y, **x}\nzz\n~~~\n\nThe different output should look like this:\n\n~~~\n{'b': 'boy', 'c': 'cactus', 'a': 'apple'}\n~~~\n\n#### Here is a random table ####\n    \n| Numbers | Words |  Mixed |\n| ------- | ----- | ------ |\n| 1 | Hello | 1 apple |\n| 2 | Jupyter | 2 pears  |\n| 3 | World | 3 bananas |\n \n \n    \n"
        },
        {
            "cell_type": "code",
            "execution_count": null,
            "metadata": {},
            "outputs": [],
            "source": ""
        }
    ],
    "metadata": {
        "kernelspec": {
            "display_name": "Python 3.8",
            "language": "python",
            "name": "python3"
        },
        "language_info": {
            "codemirror_mode": {
                "name": "ipython",
                "version": 3
            },
            "file_extension": ".py",
            "mimetype": "text/x-python",
            "name": "python",
            "nbconvert_exporter": "python",
            "pygments_lexer": "ipython3",
            "version": "3.8.12"
        }
    },
    "nbformat": 4,
    "nbformat_minor": 1
}